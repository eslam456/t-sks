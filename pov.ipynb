{
  "nbformat": 4,
  "nbformat_minor": 0,
  "metadata": {
    "colab": {
      "provenance": []
    },
    "kernelspec": {
      "name": "python3",
      "display_name": "Python 3"
    },
    "language_info": {
      "name": "python"
    }
  },
  "cells": [
    {
      "cell_type": "code",
      "execution_count": null,
      "metadata": {
        "colab": {
          "base_uri": "https://localhost:8080/"
        },
        "id": "v_0GnUPnPRAU",
        "outputId": "5f5c333f-7660-42bb-b446-ae9b73334652"
      },
      "outputs": [
        {
          "output_type": "stream",
          "name": "stdout",
          "text": [
            "the area is 10\n",
            " the perimeter is 14\n",
            " the lenth is 2\n",
            " the width is 5\n",
            "the volume: 80\n",
            "None\n"
          ]
        }
      ],
      "source": [
        "class rectan:\n",
        "  def __init__(self,width,length):\n",
        "    self.width=width\n",
        "    self.length=length\n",
        "  def perimeter(self):\n",
        "    self.perimeter=2*(self.width+self.length)\n",
        "    return self.perimeter\n",
        "  def area(self):\n",
        "    self.area=self.width*self.length\n",
        "    return self.area\n",
        "\n",
        "  def display(self):\n",
        "    return f\"the area is {self.area()}\\n the perimeter is {self.perimeter()}\\n the lenth is {self.length}\\n the width is {self.width}\"\n",
        "class parall(rectan):\n",
        "  def __init__(self,width,length,hight):\n",
        "    super().__init__(width,length)\n",
        "    self.hight=hight\n",
        "  def volume(self):\n",
        "    print(\"the volume:\",self.area()*self.hight)\n",
        "\n",
        "cal=rectan(5,2)\n",
        "print(cal.display());\n",
        "para=parall(5,2,8)\n",
        "print(para.volume())"
      ]
    },
    {
      "cell_type": "code",
      "source": [
        "class person :\n",
        "  def __init__(self,name,age,sec):\n",
        "    self.name=name\n",
        "    self.age=age\n",
        "    self.sec=sec\n",
        "  def display(self):\n",
        "    print(self.name,self.age)\n",
        "class student(person):\n",
        "  def __init__(self,name,age,sec):\n",
        "    super().__init__(name,age,sec)\n",
        "\n",
        "  def displaystudent(self):\n",
        "    print(self.name,self.age,self.sec)\n",
        "\n",
        "\n",
        "student=student(\"jone\",15,1)\n",
        "print(student.displaystudent())\n",
        "\n"
      ],
      "metadata": {
        "colab": {
          "base_uri": "https://localhost:8080/"
        },
        "id": "wB3XHU8GSECo",
        "outputId": "8b48d4af-b0cf-4bfd-eda3-2f52bdde4eff"
      },
      "execution_count": 17,
      "outputs": [
        {
          "output_type": "stream",
          "name": "stdout",
          "text": [
            "jone 15 1\n",
            "None\n"
          ]
        }
      ]
    },
    {
      "cell_type": "code",
      "source": [
        "class coputation:\n",
        "  def __init__(self):\n",
        "    pass\n",
        "  def factorial(self,n):\n",
        "    r=1\n",
        "    for i in range (1,n+1):\n",
        "      r*=i\n",
        "    return r\n",
        "  def sum(self,n):\n",
        "    sum=0\n",
        "    for i in range (n+1):\n",
        "      sum+=i\n",
        "    return sum\n",
        "  def testprim(self,n):\n",
        "    c=0\n",
        "    if (n<1):print(\"not prime num.\")\n",
        "    else :\n",
        "      for i in range (2,n):\n",
        "        if (n%i==0):\n",
        "          return False\n",
        "      if c==0:return True\n",
        "  def testprim2(self,a,b):\n",
        "    for i in range(a+1,b):\n",
        "      if (i%(i+1)!=0):\n",
        "        print(i,\"prime\")\n",
        "    return f\"that is all!\"\n",
        "  def tableMult(self,n):\n",
        "    for i in range(1,10):\n",
        "      print(i,\"x\",n,\"=\",i*n)\n",
        "  def allTablesMult(self):\n",
        "    for i in range(1,10):\n",
        "      for j in range(1,10):\n",
        "        print(i,\"x\",j,\"=\",i*j)\n",
        "  def listDiv(self,n):\n",
        "    Ldiv=[]\n",
        "    for i in range (1,n+1):\n",
        "      if (n%i==0):Ldiv.append(i)\n",
        "    return Ldiv\n",
        "  def listDivPrim(self,n):\n",
        "    Ldiv1=[]\n",
        "    for i in range (1,n+1):\n",
        "      if (n%i!=0 and self.testprim(i)):Ldiv1.append(i)\n",
        "    return Ldiv1\n",
        "\n",
        "a=coputation()\n",
        "print(a.listDivPrim(5))\n"
      ],
      "metadata": {
        "colab": {
          "base_uri": "https://localhost:8080/"
        },
        "id": "JDYneISEn960",
        "outputId": "e01aeff2-4de3-43e6-f4f0-a4f4f714b233"
      },
      "execution_count": 88,
      "outputs": [
        {
          "output_type": "stream",
          "name": "stdout",
          "text": [
            "[2, 3]\n"
          ]
        }
      ]
    },
    {
      "cell_type": "code",
      "source": [
        "a=\"are you \""
      ],
      "metadata": {
        "id": "Yc-rDfQ89KTj"
      },
      "execution_count": null,
      "outputs": []
    }
  ]
}